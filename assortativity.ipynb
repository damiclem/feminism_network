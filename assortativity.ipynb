{
 "cells": [
  {
   "cell_type": "code",
   "execution_count": 1,
   "metadata": {},
   "outputs": [],
   "source": [
    "import re\n",
    "import numpy as np\n",
    "import pandas as pd\n",
    "import networkx as nx\n",
    "import community\n",
    "import markov_clustering as mc\n",
    "import matplotlib.pyplot as plt\n",
    "from scipy import sparse\n",
    "\n",
    "%matplotlib inline"
   ]
  },
  {
   "cell_type": "code",
   "execution_count": 2,
   "metadata": {},
   "outputs": [],
   "source": [
    "# Load words dataset table\n",
    "words = pd.read_csv('data/database/words.csv', dtype={\n",
    "    'tweet': np.unicode_,\n",
    "    'index': np.int,\n",
    "    'text': np.unicode_,\n",
    "    'pos': np.unicode_,\n",
    "    'conf': np.float\n",
    "})\n",
    "\n",
    "# Remove words dataframe entries with text = 'woman'\n",
    "words = words.drop(words[words.text == 'woman'].index).reset_index(drop=True)  "
   ]
  },
  {
   "cell_type": "code",
   "execution_count": 3,
   "metadata": {},
   "outputs": [],
   "source": [
    "# Load dictionaries\n",
    "\n",
    "w2i_2017, i2w_2017 = np.load('data/dict2017.npy')\n",
    "w2i_2018, i2w_2018 = np.load('data/dict2018.npy')\n",
    "\n",
    "w2i = [w2i_2017, w2i_2018]\n",
    "i2w = [i2w_2017, i2w_2018]\n",
    "\n",
    "# Load edges dataframes\n",
    "edges_2017 = pd.read_csv('data/database/edges2017',)\n",
    "edges_2018 = pd.read_csv('data/database/edges2018')\n",
    "\n",
    "# Load adjacency matrices\n",
    "X_2017 = np.load('data/adj_matrix_2017.npy') \n",
    "X_2018 = np.load('data/adj_matrix_2018.npy') "
   ]
  },
  {
   "cell_type": "code",
   "execution_count": 4,
   "metadata": {},
   "outputs": [],
   "source": [
    "# Create an undirected multilink graph object\n",
    "net_2017 = nx.from_numpy_matrix(X_2017, parallel_edges=True, create_using=nx.MultiGraph)\n",
    "net_2018 = nx.from_numpy_matrix(X_2018, parallel_edges=True, create_using=nx.MultiGraph)"
   ]
  },
  {
   "cell_type": "code",
   "execution_count": 5,
   "metadata": {},
   "outputs": [],
   "source": [
    "# Set pos-tag and text as attribute of each node\n",
    "\n",
    "# relation index - pos\n",
    "i2p_2017 = pd.DataFrame(i2w_2017.values()).iloc[:,1]\n",
    "i2p_2018 = pd.DataFrame(i2w_2018.values()).iloc[:,1]\n",
    "\n",
    "# add the pos attribute through a dict\n",
    "attr_pos = { node: text for node, text in tuple(zip(i2p_2017.index, i2p_2017.values )) }\n",
    "nx.set_node_attributes(net_2017, attr_pos , 'pos')\n",
    "\n",
    "attr_pos = { node: text for node, text in tuple(zip(i2p_2018.index, i2p_2018.values )) }\n",
    "nx.set_node_attributes(net_2018, attr_pos, 'pos')\n",
    "\n",
    "# relation index - text\n",
    "i2t_2017 = pd.DataFrame(i2w_2017.values()).iloc[:,0]\n",
    "i2t_2018 = pd.DataFrame(i2w_2018.values()).iloc[:,0]\n",
    "\n",
    "# add the text attribute through a dict\n",
    "attr_text = { node: text for node, text in tuple(zip(i2t_2018.index, i2t_2018.values )) }\n",
    "nx.set_node_attributes(net_2017, attr_text, 'text')\n",
    "\n",
    "attr_text = { node: text for node, text in tuple(zip(i2t_2018.index, i2t_2018.values )) }\n",
    "nx.set_node_attributes(net_2018, attr_text, 'text')"
   ]
  },
  {
   "cell_type": "markdown",
   "metadata": {},
   "source": [
    "## Degree assortativity"
   ]
  },
  {
   "cell_type": "code",
   "execution_count": 14,
   "metadata": {},
   "outputs": [
    {
     "name": "stdout",
     "output_type": "stream",
     "text": [
      "Assortativity coefficient 2017: -0.03360969002667204\n",
      "Assortativity coefficient 2018: -0.002170278602065764\n"
     ]
    }
   ],
   "source": [
    "print('Assortativity coefficient 2017:',nx.degree_assortativity_coefficient(net_2017))\n",
    "print('Assortativity coefficient 2018:',nx.degree_assortativity_coefficient(net_2018))"
   ]
  },
  {
   "cell_type": "markdown",
   "metadata": {},
   "source": [
    "## Node assortativity by attribute"
   ]
  },
  {
   "cell_type": "code",
   "execution_count": 7,
   "metadata": {},
   "outputs": [],
   "source": [
    "verbs_2017 = [x for x,y in net_2017.nodes(data='pos') if y == 'V']\n",
    "verbs_2018 = [x for x,y in net_2018.nodes(data='pos') if y == 'V']"
   ]
  },
  {
   "cell_type": "code",
   "execution_count": 8,
   "metadata": {},
   "outputs": [
    {
     "name": "stdout",
     "output_type": "stream",
     "text": [
      "Assortativity coefficient 2017: 0.032036909658333716\n",
      "Assortativity coefficient 2018: 0.02476446466691135\n"
     ]
    }
   ],
   "source": [
    "print('Assortativity coefficient 2017:',nx.degree_assortativity_coefficient(net_2017.subgraph(verbs_2017)))\n",
    "print('Assortativity coefficient 2018:',nx.degree_assortativity_coefficient(net_2018.subgraph(verbs_2018)))"
   ]
  },
  {
   "cell_type": "code",
   "execution_count": 17,
   "metadata": {},
   "outputs": [
    {
     "name": "stdout",
     "output_type": "stream",
     "text": [
      "Assortativity coefficient 2017: -0.048484302452582805\n",
      "Assortativity coefficient 2018: -0.013328685955001137\n"
     ]
    }
   ],
   "source": [
    "print('Assortativity coefficient 2017 wrt pos attribute:',nx.attribute_assortativity_coefficient(net_2017,'pos'))\n",
    "print('Assortativity coefficient 2018 wrt pos attribute:',nx.attribute_assortativity_coefficient(net_2018,'pos'))"
   ]
  },
  {
   "cell_type": "code",
   "execution_count": null,
   "metadata": {},
   "outputs": [],
   "source": []
  }
 ],
 "metadata": {
  "kernelspec": {
   "display_name": "Python 3",
   "language": "python",
   "name": "python3"
  },
  "language_info": {
   "codemirror_mode": {
    "name": "ipython",
    "version": 3
   },
   "file_extension": ".py",
   "mimetype": "text/x-python",
   "name": "python",
   "nbconvert_exporter": "python",
   "pygments_lexer": "ipython3",
   "version": "3.7.3"
  }
 },
 "nbformat": 4,
 "nbformat_minor": 2
}
