{
 "cells": [
  {
   "cell_type": "code",
   "execution_count": 1,
   "metadata": {},
   "outputs": [],
   "source": [
    "import re\n",
    "import numpy as np\n",
    "import pandas as pd\n",
    "import networkx as nx\n",
    "import matplotlib.pyplot as plt\n",
    "from network import select_year, create_edges, adj_matrix, plots\n",
    "\n",
    "%matplotlib inline"
   ]
  },
  {
   "cell_type": "code",
   "execution_count": 2,
   "metadata": {},
   "outputs": [
    {
     "data": {
      "text/html": [
       "<div>\n",
       "<style scoped>\n",
       "    .dataframe tbody tr th:only-of-type {\n",
       "        vertical-align: middle;\n",
       "    }\n",
       "\n",
       "    .dataframe tbody tr th {\n",
       "        vertical-align: top;\n",
       "    }\n",
       "\n",
       "    .dataframe thead th {\n",
       "        text-align: right;\n",
       "    }\n",
       "</style>\n",
       "<table border=\"1\" class=\"dataframe\">\n",
       "  <thead>\n",
       "    <tr style=\"text-align: right;\">\n",
       "      <th></th>\n",
       "      <th>conf</th>\n",
       "      <th>index</th>\n",
       "      <th>pos</th>\n",
       "      <th>text</th>\n",
       "      <th>tweet</th>\n",
       "    </tr>\n",
       "  </thead>\n",
       "  <tbody>\n",
       "    <tr>\n",
       "      <th>0</th>\n",
       "      <td>0.9889</td>\n",
       "      <td>7</td>\n",
       "      <td>A</td>\n",
       "      <td>poor</td>\n",
       "      <td>1000007326789758987</td>\n",
       "    </tr>\n",
       "    <tr>\n",
       "      <th>1</th>\n",
       "      <td>0.9991</td>\n",
       "      <td>8</td>\n",
       "      <td>N</td>\n",
       "      <td>area</td>\n",
       "      <td>1000007326789758987</td>\n",
       "    </tr>\n",
       "    <tr>\n",
       "      <th>2</th>\n",
       "      <td>0.9979</td>\n",
       "      <td>13</td>\n",
       "      <td>V</td>\n",
       "      <td>find</td>\n",
       "      <td>1000007326789758987</td>\n",
       "    </tr>\n",
       "    <tr>\n",
       "      <th>3</th>\n",
       "      <td>0.9951</td>\n",
       "      <td>17</td>\n",
       "      <td>N</td>\n",
       "      <td>community</td>\n",
       "      <td>1000007326789758987</td>\n",
       "    </tr>\n",
       "    <tr>\n",
       "      <th>4</th>\n",
       "      <td>0.9899</td>\n",
       "      <td>18</td>\n",
       "      <td>V</td>\n",
       "      <td>provide</td>\n",
       "      <td>1000007326789758987</td>\n",
       "    </tr>\n",
       "  </tbody>\n",
       "</table>\n",
       "</div>"
      ],
      "text/plain": [
       "     conf  index pos       text                tweet\n",
       "0  0.9889      7   A       poor  1000007326789758987\n",
       "1  0.9991      8   N       area  1000007326789758987\n",
       "2  0.9979     13   V       find  1000007326789758987\n",
       "3  0.9951     17   N  community  1000007326789758987\n",
       "4  0.9899     18   V    provide  1000007326789758987"
      ]
     },
     "execution_count": 2,
     "metadata": {},
     "output_type": "execute_result"
    }
   ],
   "source": [
    "words = select_year('2018')\n",
    "words.head()"
   ]
  },
  {
   "cell_type": "code",
   "execution_count": 3,
   "metadata": {},
   "outputs": [
    {
     "data": {
      "text/html": [
       "<div>\n",
       "<style scoped>\n",
       "    .dataframe tbody tr th:only-of-type {\n",
       "        vertical-align: middle;\n",
       "    }\n",
       "\n",
       "    .dataframe tbody tr th {\n",
       "        vertical-align: top;\n",
       "    }\n",
       "\n",
       "    .dataframe thead th {\n",
       "        text-align: right;\n",
       "    }\n",
       "</style>\n",
       "<table border=\"1\" class=\"dataframe\">\n",
       "  <thead>\n",
       "    <tr style=\"text-align: right;\">\n",
       "      <th></th>\n",
       "      <th>text_x</th>\n",
       "      <th>text_y</th>\n",
       "      <th>counts</th>\n",
       "      <th>number_x</th>\n",
       "      <th>number_y</th>\n",
       "    </tr>\n",
       "  </thead>\n",
       "  <tbody>\n",
       "    <tr>\n",
       "      <th>0</th>\n",
       "      <td>%</td>\n",
       "      <td>day</td>\n",
       "      <td>1</td>\n",
       "      <td>1933</td>\n",
       "      <td>1081</td>\n",
       "    </tr>\n",
       "    <tr>\n",
       "      <th>1</th>\n",
       "      <td>%</td>\n",
       "      <td>earnings</td>\n",
       "      <td>1</td>\n",
       "      <td>1933</td>\n",
       "      <td>1282</td>\n",
       "    </tr>\n",
       "    <tr>\n",
       "      <th>2</th>\n",
       "      <td>%</td>\n",
       "      <td>find</td>\n",
       "      <td>1</td>\n",
       "      <td>1933</td>\n",
       "      <td>1198</td>\n",
       "    </tr>\n",
       "    <tr>\n",
       "      <th>3</th>\n",
       "      <td>%</td>\n",
       "      <td>high</td>\n",
       "      <td>1</td>\n",
       "      <td>1933</td>\n",
       "      <td>1310</td>\n",
       "    </tr>\n",
       "    <tr>\n",
       "      <th>4</th>\n",
       "      <td>%</td>\n",
       "      <td>men</td>\n",
       "      <td>1</td>\n",
       "      <td>1933</td>\n",
       "      <td>1948</td>\n",
       "    </tr>\n",
       "  </tbody>\n",
       "</table>\n",
       "</div>"
      ],
      "text/plain": [
       "  text_x    text_y  counts  number_x  number_y\n",
       "0      %       day       1      1933      1081\n",
       "1      %  earnings       1      1933      1282\n",
       "2      %      find       1      1933      1198\n",
       "3      %      high       1      1933      1310\n",
       "4      %       men       1      1933      1948"
      ]
     },
     "execution_count": 3,
     "metadata": {},
     "output_type": "execute_result"
    }
   ],
   "source": [
    "w2i, edges = create_edges(words)\n",
    "edges.head()"
   ]
  },
  {
   "cell_type": "code",
   "execution_count": 4,
   "metadata": {},
   "outputs": [
    {
     "data": {
      "text/plain": [
       "array([[0, 0, 0, ..., 0, 0, 0],\n",
       "       [0, 0, 0, ..., 0, 0, 0],\n",
       "       [0, 0, 0, ..., 0, 0, 0],\n",
       "       ...,\n",
       "       [0, 0, 0, ..., 0, 0, 0],\n",
       "       [0, 0, 0, ..., 0, 0, 0],\n",
       "       [0, 0, 0, ..., 0, 0, 0]])"
      ]
     },
     "execution_count": 4,
     "metadata": {},
     "output_type": "execute_result"
    }
   ],
   "source": [
    "A = adj_matrix(w2i,edges)\n",
    "    \n",
    "# Print out adjacency matrix (weighted)\n",
    "A"
   ]
  },
  {
   "cell_type": "code",
   "execution_count": 5,
   "metadata": {},
   "outputs": [],
   "source": [
    "# Triangularize A to avoid edge redundancy\n",
    "n = A.shape[0]\n",
    "for i in range(n):\n",
    "    for j in range(i):\n",
    "        A[i,j] = 0"
   ]
  },
  {
   "cell_type": "code",
   "execution_count": 6,
   "metadata": {},
   "outputs": [],
   "source": [
    "# Create an undirected multilink graph object\n",
    "G = nx.from_numpy_matrix(A, parallel_edges=True, create_using=nx.MultiGraph)"
   ]
  },
  {
   "cell_type": "code",
   "execution_count": 7,
   "metadata": {},
   "outputs": [
    {
     "data": {
      "text/plain": [
       "(2054, 2)"
      ]
     },
     "execution_count": 7,
     "metadata": {},
     "output_type": "execute_result"
    }
   ],
   "source": [
    "# Get node degrees \n",
    "degrees = pd.DataFrame(G.degree)\n",
    "degrees.shape"
   ]
  },
  {
   "cell_type": "code",
   "execution_count": 8,
   "metadata": {},
   "outputs": [
    {
     "data": {
      "text/plain": [
       "array([865])"
      ]
     },
     "execution_count": 8,
     "metadata": {},
     "output_type": "execute_result"
    }
   ],
   "source": [
    "isolated_nodes = degrees.loc[degrees[1] == 0,0].values\n",
    "isolated_nodes"
   ]
  },
  {
   "cell_type": "code",
   "execution_count": null,
   "metadata": {},
   "outputs": [
    {
     "data": {
      "text/plain": [
       "(2053,)"
      ]
     },
     "execution_count": 9,
     "metadata": {},
     "output_type": "execute_result"
    }
   ],
   "source": [
    "# Remove isolated nodes\n",
    "for node in isolated_nodes:\n",
    "    G.remove_node(node)\n",
    "\n",
    "# Get new node degrees \n",
    "degrees = pd.DataFrame(G.degree)[1]\n",
    "degrees.shape"
   ]
  },
  {
   "cell_type": "code",
   "execution_count": null,
   "metadata": {},
   "outputs": [],
   "source": [
    "# Get the unique values of degree and their counts\n",
    "unique, counts = np.unique(degrees.values, return_counts = True)"
   ]
  },
  {
   "cell_type": "code",
   "execution_count": null,
   "metadata": {},
   "outputs": [],
   "source": [
    "# Compute the pdf of degrees\n",
    "pdf = counts / np.sum(counts)"
   ]
  },
  {
   "cell_type": "code",
   "execution_count": null,
   "metadata": {},
   "outputs": [],
   "source": [
    "# Compute the cumulative pdf of degrees\n",
    "cpdf = 1 - np.cumsum(pdf)"
   ]
  },
  {
   "cell_type": "code",
   "execution_count": null,
   "metadata": {},
   "outputs": [
    {
     "data": {
      "image/png": "[encoded data removed]",
      "text/plain": [
       "<Figure size 1080x576 with 2 Axes>"
      ]
     },
     "metadata": {
      "needs_background": "light"
     },
     "output_type": "display_data"
    },
    {
     "data": {
      "image/png": "[encoded data removed]",
      "text/plain": [
       "<Figure size 1080x576 with 1 Axes>"
      ]
     },
     "metadata": {
      "needs_background": "light"
     },
     "output_type": "display_data"
    }
   ],
   "source": [
    "plots(unique,pdf,cpdf)"
   ]
  },
  {
   "cell_type": "code",
   "execution_count": null,
   "metadata": {},
   "outputs": [
    {
     "name": "stdout",
     "output_type": "stream",
     "text": [
      "kmin: 1, kmax: 5453\n"
     ]
    }
   ],
   "source": [
    "# Min and Max values of degrees\n",
    "kmin = np.min(unique)\n",
    "kmax = np.max(unique)\n",
    "\n",
    "print('kmin: {}, kmax: {}'.format(kmin,kmax))"
   ]
  },
  {
   "cell_type": "code",
   "execution_count": null,
   "metadata": {},
   "outputs": [],
   "source": [
    "# Estrapolate kcut from plot\n",
    "ksat = 8"
   ]
  },
  {
   "cell_type": "code",
   "execution_count": null,
   "metadata": {},
   "outputs": [
    {
     "name": "stdout",
     "output_type": "stream",
     "text": [
      "Power law estimated parameters\n",
      "gamma: 2.0396160632212395, c: 9.03108309465776\n"
     ]
    }
   ],
   "source": [
    "# Estimate power law parameters\n",
    "\n",
    "gamma = 1 + degrees[ksat:].shape[0]/np.sum(np.log(degrees.values[ksat:] / ksat))\n",
    "c = (gamma - 1)*ksat**(gamma - 1)\n",
    "print('Power law estimated parameters')\n",
    "print('gamma: {}, c: {}'.format(gamma,c))"
   ]
  },
  {
   "cell_type": "code",
   "execution_count": null,
   "metadata": {},
   "outputs": [
    {
     "data": {
      "text/plain": [
       "12281.618363570962"
      ]
     },
     "execution_count": 17,
     "metadata": {},
     "output_type": "execute_result"
    }
   ],
   "source": [
    "# Natural cutoff: gamma > 2\n",
    "ncut = ksat * degrees.shape[0]**(1/(gamma-1))\n",
    "ncut"
   ]
  },
  {
   "cell_type": "code",
   "execution_count": null,
   "metadata": {},
   "outputs": [
    {
     "data": {
      "image/png": "[encoded data removed]",
      "text/plain": [
       "<Figure size 1080x576 with 1 Axes>"
      ]
     },
     "metadata": {
      "needs_background": "light"
     },
     "output_type": "display_data"
    }
   ],
   "source": [
    "# Compare the theoretical power law distribution with our network\n",
    "fig, ax = plt.subplots(1,1,figsize=(15,8))\n",
    "ax.loglog(unique, cpdf,'o')\n",
    "ax.set_title('loglog CPDF')\n",
    "ax.loglog(np.arange(1, np.max(unique)), c * np.arange(1, np.max(unique))**(1-gamma)/(gamma-1))\n",
    "ax.grid()\n",
    "\n",
    "plt.show()"
   ]
  },
  {
   "cell_type": "code",
   "execution_count": null,
   "metadata": {},
   "outputs": [
    {
     "name": "stdout",
     "output_type": "stream",
     "text": [
      "Connected component n. 1\n",
      "\tCardinality: 2049\n"
     ]
    }
   ],
   "source": [
    "# Extract cardinality of connected component and diameter of the giant component\n",
    "cc = sorted(nx.connected_components(G),key=len,reverse=True)\n",
    "for i,x in enumerate(cc):\n",
    "    print( 'Connected component n.',i+1)\n",
    "    print( '\\tCardinality: {}'.format(len(x)) )\n",
    "    if not i:\n",
    "        print( '\\tDiameter: {}'.format(nx.diameter(G.subgraph(x))) )"
   ]
  },
  {
   "cell_type": "code",
   "execution_count": null,
   "metadata": {},
   "outputs": [],
   "source": [
    "# Convert the multigraph into a weighted graph\n",
    "Gw = nx.from_pandas_edgelist(edges,source='number_x', target='number_y', edge_attr='counts')\n",
    "\n",
    "# Compute clustering coefficients\n",
    "ccoef = pd.Series(nx.clustering(Gw, weight='counts')).reset_index()\n",
    "\n",
    "plt.figure(figsize=(12,12))\n",
    "plt.plot(ccoef['index'].values,ccoef[0].values,'gx')\n",
    "plt.grid()\n",
    "plt.show()"
   ]
  },
  {
   "cell_type": "code",
   "execution_count": null,
   "metadata": {},
   "outputs": [],
   "source": []
  }
 ],
 "metadata": {
  "kernelspec": {
   "display_name": "Python 3",
   "language": "python",
   "name": "python3"
  },
  "language_info": {
   "codemirror_mode": {
    "name": "ipython",
    "version": 3
   },
   "file_extension": ".py",
   "mimetype": "text/x-python",
   "name": "python",
   "nbconvert_exporter": "python",
   "pygments_lexer": "ipython3",
   "version": "3.7.3"
  }
 },
 "nbformat": 4,
 "nbformat_minor": 2
}
