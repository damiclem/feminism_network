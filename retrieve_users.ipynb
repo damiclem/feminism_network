{
 "cells": [
  {
   "cell_type": "code",
   "execution_count": 15,
   "metadata": {},
   "outputs": [],
   "source": [
    "# Dependencies\n",
    "from TwitterAPI import TwitterAPI\n",
    "import json\n",
    "import pandas as pd\n",
    "import urllib.parse"
   ]
  },
  {
   "cell_type": "code",
   "execution_count": 2,
   "metadata": {},
   "outputs": [],
   "source": [
    "# Login using credentials stored in auth.json file\n",
    "\n",
    "# Define authentication file path\n",
    "auth_path = 'data/auth.json'\n",
    "\n",
    "# Read auth.json file\n",
    "with open(auth_path, 'r') as file:\n",
    "    auth_dict = json.load(file)\n",
    "\n",
    "# Execute login\n",
    "api = TwitterAPI(**auth_dict)\n",
    "\n",
    "# Verify credentials\n",
    "req = api.request('account/verify_credentials')\n",
    "assert req.status_code == 200, 'Authentication failed!'"
   ]
  },
  {
   "cell_type": "code",
   "execution_count": 3,
   "metadata": {},
   "outputs": [
    {
     "name": "stdout",
     "output_type": "stream",
     "text": [
      "Current endpoint: {'limit': 180, 'remaining': 179, 'reset': 1577220966}\n",
      "Search endpoint: {'limit': 180, 'remaining': 180, 'reset': 1577220966}\n"
     ]
    }
   ],
   "source": [
    "# Get current application rate limit\n",
    "req = api.request('application/rate_limit_status')\n",
    "res = req.json()  # Save response dictionary\n",
    "\n",
    "# Get resources\n",
    "resources = res['resources']\n",
    "\n",
    "# Show search endopoint rate limit\n",
    "print('Current endpoint: {:s}'.format(str(resources['application']['/application/rate_limit_status'])))\n",
    "\n",
    "# Show search endpoint rate limit\n",
    "print('Search endpoint: {:s}'.format(str(resources['search']['/search/tweets'])))"
   ]
  },
  {
   "cell_type": "code",
   "execution_count": 4,
   "metadata": {},
   "outputs": [
    {
     "name": "stdout",
     "output_type": "stream",
     "text": [
      "['FeminismInIndia', 'EvrydayFeminism', 'UN_Women', 'wwd', 'womensmarch', 'womensaid', 'WomensInstitute', 'womensmediacntr', 'womenmakemovies', 'womenslink', 'NationalNOW', 'blkwomenshealth', 'IndiaMeToo']\n"
     ]
    }
   ],
   "source": [
    "# Return tweets for a some given users in the last few days\n",
    "\n",
    "# Get file containing users screen names\n",
    "with open('data/selected_users.json', 'r') as file:\n",
    "    screen_names = json.load(file)\n",
    "\n",
    "# Show retrieved screen names\n",
    "print(screen_names)"
   ]
  },
  {
   "cell_type": "code",
   "execution_count": 5,
   "metadata": {},
   "outputs": [
    {
     "name": "stdout",
     "output_type": "stream",
     "text": [
      "Returned status code: 200\n",
      "\n",
      "{'id': 2247560024, 'id_str': '2247560024', 'name': 'Feminism in India', 'screen_name': 'FeminismInIndia', 'location': 'India', 'description': 'FII amplifies the voices of women and marginalized groups using tools of art, media, culture, technology & community. Subscribe: \\nhttps://t.co/wMm4oPtpiT', 'url': 'http://t.co/92ddyjkbEa', 'entities': {'url': {'urls': [{'url': 'http://t.co/92ddyjkbEa', 'expanded_url': 'http://feminisminindia.com', 'display_url': 'feminisminindia.com', 'indices': [0, 22]}]}, 'description': {'urls': [{'url': 'https://t.co/wMm4oPtpiT', 'expanded_url': 'http://eepurl.com/cjuLbv', 'display_url': 'eepurl.com/cjuLbv', 'indices': [130, 153]}]}}, 'protected': False, 'followers_count': 36210, 'friends_count': 1728, 'listed_count': 406, 'created_at': 'Sun Dec 15 18:02:24 +0000 2013', 'favourites_count': 3090, 'utc_offset': None, 'time_zone': None, 'geo_enabled': True, 'verified': True, 'statuses_count': 49728, 'lang': None, 'status': {'created_at': 'Tue Dec 24 18:45:10 +0000 2019', 'id': 1209545568990769152, 'id_str': '1209545568990769152', 'text': 'What Is Section 144 And Why We Should Still Resist Against\\xa0CAA https://t.co/De9RnuwjSM https://t.co/Dw3P5qT6rA', 'truncated': False, 'extended_entities': {'media': [{'id': 1209545567354990593, 'id_str': '1209545567354990593', 'indices': [87, 110], 'media_url': 'http://pbs.twimg.com/media/EMkrSPnXsAEVSIU.jpg', 'media_url_https': 'https://pbs.twimg.com/media/EMkrSPnXsAEVSIU.jpg', 'url': 'https://t.co/Dw3P5qT6rA', 'display_url': 'pic.twitter.com/Dw3P5qT6rA', 'expanded_url': 'https://twitter.com/FeminismInIndia/status/1209545568990769152/photo/1', 'type': 'photo', 'sizes': {'thumb': {'w': 150, 'h': 150, 'resize': 'crop'}, 'medium': {'w': 363, 'h': 300, 'resize': 'fit'}, 'small': {'w': 363, 'h': 300, 'resize': 'fit'}, 'large': {'w': 363, 'h': 300, 'resize': 'fit'}}, 'features': {'medium': {'faces': []}, 'small': {'faces': []}, 'large': {'faces': []}, 'orig': {'faces': []}}}]}, 'source': '<a href=\"http://publicize.wp.com/\" rel=\"nofollow\">WordPress.com</a>', 'in_reply_to_status_id': None, 'in_reply_to_status_id_str': None, 'in_reply_to_user_id': None, 'in_reply_to_user_id_str': None, 'in_reply_to_screen_name': None, 'geo': None, 'coordinates': None, 'place': None, 'contributors': None, 'is_quote_status': False, 'retweet_count': 0, 'favorite_count': 2, 'favorited': False, 'retweeted': False, 'possibly_sensitive': False, 'lang': 'en'}, 'contributors_enabled': False, 'is_translator': False, 'is_translation_enabled': False, 'profile_background_color': '000000', 'profile_background_image_url': 'http://abs.twimg.com/images/themes/theme1/bg.png', 'profile_background_image_url_https': 'https://abs.twimg.com/images/themes/theme1/bg.png', 'profile_background_tile': False, 'profile_image_url': 'http://pbs.twimg.com/profile_images/985731196771594241/Kor3wMBG_normal.jpg', 'profile_image_url_https': 'https://pbs.twimg.com/profile_images/985731196771594241/Kor3wMBG_normal.jpg', 'profile_banner_url': 'https://pbs.twimg.com/profile_banners/2247560024/1576493694', 'profile_link_color': 'E7343F', 'profile_sidebar_border_color': '000000', 'profile_sidebar_fill_color': '000000', 'profile_text_color': '000000', 'profile_use_background_image': False, 'has_extended_profile': False, 'default_profile': False, 'default_profile_image': False, 'can_media_tag': True, 'followed_by': False, 'following': False, 'follow_request_sent': False, 'notifications': False, 'translator_type': 'none'}\n",
      "\n"
     ]
    }
   ],
   "source": [
    "# Retrieve users from screen names\n",
    "res = api.request('users/lookup', {\n",
    "    'screen_name': ','.join(screen_names),\n",
    "    'include_entities': False\n",
    "})\n",
    "res_status = res.status_code\n",
    "\n",
    "# Print returned status code\n",
    "print('Returned status code: {:d}'.format(res_status))\n",
    "print()\n",
    "\n",
    "# Get users\n",
    "users = [x for x in res]\n",
    "\n",
    "# Show first user object\n",
    "print(users[0])\n",
    "print()"
   ]
  },
  {
   "cell_type": "code",
   "execution_count": 6,
   "metadata": {},
   "outputs": [
    {
     "name": "stdout",
     "output_type": "stream",
     "text": [
      "{'id_str': '2247560024', 'name': 'Feminism in India', 'screen_name': 'FeminismInIndia', 'description': 'FII amplifies the voices of women and marginalized groups using tools of art, media, culture, technology & community. Subscribe: \\nhttps://t.co/wMm4oPtpiT', 'location': 'India', 'followers_count': 36210, 'friends_count': 1728, 'verified': True, 'statuses_count': 49728}\n"
     ]
    }
   ],
   "source": [
    "# Define a subset of attributes to be kept for each user\n",
    "kept_attr = ('id_str', 'name', 'screen_name', 'description', 'location', 'followers_count', \n",
    "           'friends_count', 'verified', 'statuses_count')\n",
    "\n",
    "# Keep only a subset of user's attributes\n",
    "for i, user in enumerate(users):\n",
    "    users[i] = {k: user[k]for k in kept_attr}\n",
    "    \n",
    "# Show first user object\n",
    "print(users[0])"
   ]
  },
  {
   "cell_type": "code",
   "execution_count": 7,
   "metadata": {
    "scrolled": true
   },
   "outputs": [
    {
     "data": {
      "text/html": [
       "<div>\n",
       "<style scoped>\n",
       "    .dataframe tbody tr th:only-of-type {\n",
       "        vertical-align: middle;\n",
       "    }\n",
       "\n",
       "    .dataframe tbody tr th {\n",
       "        vertical-align: top;\n",
       "    }\n",
       "\n",
       "    .dataframe thead th {\n",
       "        text-align: right;\n",
       "    }\n",
       "</style>\n",
       "<table border=\"1\" class=\"dataframe\">\n",
       "  <thead>\n",
       "    <tr style=\"text-align: right;\">\n",
       "      <th></th>\n",
       "      <th>id_str</th>\n",
       "      <th>name</th>\n",
       "      <th>screen_name</th>\n",
       "      <th>description</th>\n",
       "      <th>location</th>\n",
       "      <th>followers_count</th>\n",
       "      <th>friends_count</th>\n",
       "      <th>verified</th>\n",
       "      <th>statuses_count</th>\n",
       "    </tr>\n",
       "  </thead>\n",
       "  <tbody>\n",
       "    <tr>\n",
       "      <td>0</td>\n",
       "      <td>2247560024</td>\n",
       "      <td>Feminism in India</td>\n",
       "      <td>FeminismInIndia</td>\n",
       "      <td>FII amplifies the voices of women and marginal...</td>\n",
       "      <td>India</td>\n",
       "      <td>36210</td>\n",
       "      <td>1728</td>\n",
       "      <td>True</td>\n",
       "      <td>49728</td>\n",
       "    </tr>\n",
       "    <tr>\n",
       "      <td>1</td>\n",
       "      <td>591920938</td>\n",
       "      <td>Everyday Feminism</td>\n",
       "      <td>EvrydayFeminism</td>\n",
       "      <td>Intersectional feminism for your everyday life...</td>\n",
       "      <td></td>\n",
       "      <td>127136</td>\n",
       "      <td>1103</td>\n",
       "      <td>True</td>\n",
       "      <td>19039</td>\n",
       "    </tr>\n",
       "    <tr>\n",
       "      <td>2</td>\n",
       "      <td>17137628</td>\n",
       "      <td>UN Women</td>\n",
       "      <td>UN_Women</td>\n",
       "      <td>UN Women is the UN entity for gender equality ...</td>\n",
       "      <td>Worldwide</td>\n",
       "      <td>1716993</td>\n",
       "      <td>4058</td>\n",
       "      <td>True</td>\n",
       "      <td>57563</td>\n",
       "    </tr>\n",
       "    <tr>\n",
       "      <td>3</td>\n",
       "      <td>19784831</td>\n",
       "      <td>WWD</td>\n",
       "      <td>wwd</td>\n",
       "      <td>Fashion. Beauty. Business.</td>\n",
       "      <td></td>\n",
       "      <td>2870176</td>\n",
       "      <td>475</td>\n",
       "      <td>True</td>\n",
       "      <td>82633</td>\n",
       "    </tr>\n",
       "    <tr>\n",
       "      <td>4</td>\n",
       "      <td>800942537083068416</td>\n",
       "      <td>Women's March</td>\n",
       "      <td>womensmarch</td>\n",
       "      <td>Three years of resistance, three years of trai...</td>\n",
       "      <td>Washington, D.C.</td>\n",
       "      <td>636422</td>\n",
       "      <td>763</td>\n",
       "      <td>True</td>\n",
       "      <td>26992</td>\n",
       "    </tr>\n",
       "  </tbody>\n",
       "</table>\n",
       "</div>"
      ],
      "text/plain": [
       "               id_str               name      screen_name  \\\n",
       "0          2247560024  Feminism in India  FeminismInIndia   \n",
       "1           591920938  Everyday Feminism  EvrydayFeminism   \n",
       "2            17137628           UN Women         UN_Women   \n",
       "3            19784831                WWD              wwd   \n",
       "4  800942537083068416      Women's March      womensmarch   \n",
       "\n",
       "                                         description          location  \\\n",
       "0  FII amplifies the voices of women and marginal...             India   \n",
       "1  Intersectional feminism for your everyday life...                     \n",
       "2  UN Women is the UN entity for gender equality ...         Worldwide   \n",
       "3                         Fashion. Beauty. Business.                     \n",
       "4  Three years of resistance, three years of trai...  Washington, D.C.   \n",
       "\n",
       "   followers_count  friends_count  verified  statuses_count  \n",
       "0            36210           1728      True           49728  \n",
       "1           127136           1103      True           19039  \n",
       "2          1716993           4058      True           57563  \n",
       "3          2870176            475      True           82633  \n",
       "4           636422            763      True           26992  "
      ]
     },
     "execution_count": 7,
     "metadata": {},
     "output_type": "execute_result"
    }
   ],
   "source": [
    "# Store users data in a tabular form through pandas DataFrame object\n",
    "users = pd.DataFrame(users)\n",
    "users.head()"
   ]
  },
  {
   "cell_type": "code",
   "execution_count": 11,
   "metadata": {},
   "outputs": [],
   "source": [
    "# Save users table as .csv file\n",
    "users.to_csv('data/database/users.csv')"
   ]
  },
  {
   "cell_type": "code",
   "execution_count": null,
   "metadata": {},
   "outputs": [],
   "source": []
  }
 ],
 "metadata": {
  "kernelspec": {
   "display_name": "Python 3",
   "language": "python",
   "name": "python3"
  },
  "language_info": {
   "codemirror_mode": {
    "name": "ipython",
    "version": 3
   },
   "file_extension": ".py",
   "mimetype": "text/x-python",
   "name": "python",
   "nbconvert_exporter": "python",
   "pygments_lexer": "ipython3",
   "version": "3.7.4"
  }
 },
 "nbformat": 4,
 "nbformat_minor": 2
}
