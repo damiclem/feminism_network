{
 "cells": [
  {
   "cell_type": "markdown",
   "metadata": {},
   "source": [
    "# Twitter\n",
    "\n",
    "Exploitation of twitter resources available from APIs. "
   ]
  },
  {
   "cell_type": "code",
   "execution_count": null,
   "metadata": {},
   "outputs": [],
   "source": [
    "# Import libraries\n",
    "import requests\n",
    "import json"
   ]
  },
  {
   "cell_type": "code",
   "execution_count": null,
   "metadata": {},
   "outputs": [],
   "source": [
    "# Import API app-only credentials (i.e. no user context)\n",
    "with open('auth.json', 'r') as auth_json:\n",
    "    auth_dict = json.load(auth_json)\n",
    "    \n",
    "# Save API client key and access token\n",
    "api_key = auth_dict['api_key']\n",
    "api_secret_key = auth_dict['api_secret_key']\n",
    "# access_token = auth_dict['access_token']\n",
    "# access_secret_token = auth_dict['access_secret_token']\n",
    "print(api_key)\n",
    "print(api_secret_key)"
   ]
  },
  {
   "cell_type": "code",
   "execution_count": null,
   "metadata": {},
   "outputs": [],
   "source": [
    "# Request access tokens using API key as user and secret key as password\n",
    "r = requests.post(\n",
    "    'https://api.twitter.com/oauth2/token', \n",
    "    auth=(api_key, api_secret_key),\n",
    "    data={'grant_type': 'client_credentials'}\n",
    ")\n",
    "\n",
    "# Show request result\n",
    "print('Authentication returned status {:d}'.format(r.status_code))\n",
    "\n",
    "# Save access token\n",
    "access_token = r.json().get('access_token', None)\n",
    "assert access_token is not None  # Check access"
   ]
  },
  {
   "cell_type": "markdown",
   "metadata": {},
   "source": [
    "## Getting user's timeline"
   ]
  },
  {
   "cell_type": "code",
   "execution_count": null,
   "metadata": {
    "scrolled": true
   },
   "outputs": [],
   "source": [
    "# Request lat and long for 'Padova' city\n",
    "r = requests.get(\n",
    "    'https://api.twitter.com/1.1/statuses/user_timeline.json?screen_name=BarackObama&count=10',\n",
    "    headers={'Authorization': 'Bearer {:s}'.format(access_token)}\n",
    ")\n",
    "\n",
    "# Show response\n",
    "r.json()"
   ]
  },
  {
   "cell_type": "code",
   "execution_count": null,
   "metadata": {},
   "outputs": [],
   "source": [
    "# Get all returned tweets\n",
    "tweets = r.json()\n",
    "\n",
    "# Get last returned tweet (in ascending temporal order)\n",
    "tweet = tweets[0]\n",
    "print(tweet.get('created_at'))  # Print date and time\n",
    "print(tweet.get('user').get('name'), tweet.get('user').get('location'))  # Print user name and location\n",
    "print(tweet.get('text'))  # Print tweet text"
   ]
  },
  {
   "cell_type": "markdown",
   "metadata": {},
   "source": [
    "## Getting location (global) trends"
   ]
  },
  {
   "cell_type": "code",
   "execution_count": null,
   "metadata": {},
   "outputs": [],
   "source": [
    "# Request lat and long for 'Padova' city\n",
    "r = requests.get(\n",
    "    'https://api.twitter.com/1.1/trends/place.json?id=1',\n",
    "    headers={'Authorization': 'Bearer {:s}'.format(access_token)}\n",
    ")\n",
    "\n",
    "# Show response\n",
    "r.json()"
   ]
  },
  {
   "cell_type": "code",
   "execution_count": null,
   "metadata": {},
   "outputs": [],
   "source": [
    "# Get trends list\n",
    "trends = r.json()[0]['trends']\n",
    "\n",
    "# Show 10 trending topics, worldwide\n",
    "print('Worldwide trending topics:')\n",
    "for trend in trends[:10]:\n",
    "    name = trend.get('name')\n",
    "    volume = trend.get('tweet_volume')\n",
    "    print('  {} tweeted {} times'.format(name, volume))"
   ]
  },
  {
   "cell_type": "code",
   "execution_count": null,
   "metadata": {},
   "outputs": [],
   "source": []
  }
 ],
 "metadata": {
  "kernelspec": {
   "display_name": "Python 3",
   "language": "python",
   "name": "python3"
  },
  "language_info": {
   "codemirror_mode": {
    "name": "ipython",
    "version": 3
   },
   "file_extension": ".py",
   "mimetype": "text/x-python",
   "name": "python",
   "nbconvert_exporter": "python",
   "pygments_lexer": "ipython3",
   "version": "3.7.4"
  }
 },
 "nbformat": 4,
 "nbformat_minor": 2
}
