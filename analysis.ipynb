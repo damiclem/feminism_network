{
 "cells": [
  {
   "cell_type": "code",
   "execution_count": 41,
   "metadata": {},
   "outputs": [],
   "source": [
    "# Dependencies\n",
    "import numpy as np\n",
    "import pandas as pd\n",
    "import networkx as nx\n",
    "import matplotlib.pyplot as plt\n",
    "import matplotlib.colors as mc\n",
    "from modules.dataset import load_words, load_tweets\n",
    "from modules.network import get_edges, get_degree, save_edges, map_words\n",
    "\n",
    "# Set up default colors\n",
    "colors=[*mc.TABLEAU_COLORS.values()]\n",
    "\n",
    "%matplotlib inline"
   ]
  },
  {
   "cell_type": "markdown",
   "metadata": {},
   "source": [
    "# Dataset\n",
    "\n",
    "## Dataset creation"
   ]
  },
  {
   "cell_type": "code",
   "execution_count": 42,
   "metadata": {},
   "outputs": [
    {
     "data": {
      "text/html": [
       "<div>\n",
       "<style scoped>\n",
       "    .dataframe tbody tr th:only-of-type {\n",
       "        vertical-align: middle;\n",
       "    }\n",
       "\n",
       "    .dataframe tbody tr th {\n",
       "        vertical-align: top;\n",
       "    }\n",
       "\n",
       "    .dataframe thead th {\n",
       "        text-align: right;\n",
       "    }\n",
       "</style>\n",
       "<table border=\"1\" class=\"dataframe\">\n",
       "  <thead>\n",
       "    <tr style=\"text-align: right;\">\n",
       "      <th></th>\n",
       "      <th>tweet</th>\n",
       "      <th>index</th>\n",
       "      <th>text</th>\n",
       "      <th>pos</th>\n",
       "      <th>conf</th>\n",
       "    </tr>\n",
       "  </thead>\n",
       "  <tbody>\n",
       "    <tr>\n",
       "      <th>0</th>\n",
       "      <td>1000007326789758987</td>\n",
       "      <td>7</td>\n",
       "      <td>poor</td>\n",
       "      <td>A</td>\n",
       "      <td>0.9889</td>\n",
       "    </tr>\n",
       "    <tr>\n",
       "      <th>1</th>\n",
       "      <td>1000007326789758987</td>\n",
       "      <td>8</td>\n",
       "      <td>area</td>\n",
       "      <td>N</td>\n",
       "      <td>0.9991</td>\n",
       "    </tr>\n",
       "    <tr>\n",
       "      <th>2</th>\n",
       "      <td>1000007326789758987</td>\n",
       "      <td>13</td>\n",
       "      <td>find</td>\n",
       "      <td>V</td>\n",
       "      <td>0.9979</td>\n",
       "    </tr>\n",
       "    <tr>\n",
       "      <th>3</th>\n",
       "      <td>1000007326789758987</td>\n",
       "      <td>17</td>\n",
       "      <td>community</td>\n",
       "      <td>N</td>\n",
       "      <td>0.9951</td>\n",
       "    </tr>\n",
       "    <tr>\n",
       "      <th>4</th>\n",
       "      <td>1000007326789758987</td>\n",
       "      <td>18</td>\n",
       "      <td>provide</td>\n",
       "      <td>V</td>\n",
       "      <td>0.9899</td>\n",
       "    </tr>\n",
       "  </tbody>\n",
       "</table>\n",
       "</div>"
      ],
      "text/plain": [
       "                 tweet  index       text pos    conf\n",
       "0  1000007326789758987      7       poor   A  0.9889\n",
       "1  1000007326789758987      8       area   N  0.9991\n",
       "2  1000007326789758987     13       find   V  0.9979\n",
       "3  1000007326789758987     17  community   N  0.9951\n",
       "4  1000007326789758987     18    provide   V  0.9899"
      ]
     },
     "execution_count": 42,
     "metadata": {},
     "output_type": "execute_result"
    }
   ],
   "source": [
    "# Load words dataset table\n",
    "words = load_words('data/database/words.csv')\n",
    "words.head()"
   ]
  },
  {
   "cell_type": "code",
   "execution_count": 43,
   "metadata": {},
   "outputs": [],
   "source": [
    "# Retrieve dictionaries mapping lemma tuples to numeric value\n",
    "w2i, i2w = map_words(words)"
   ]
  },
  {
   "cell_type": "code",
   "execution_count": 44,
   "metadata": {},
   "outputs": [
    {
     "data": {
      "text/html": [
       "<div>\n",
       "<style scoped>\n",
       "    .dataframe tbody tr th:only-of-type {\n",
       "        vertical-align: middle;\n",
       "    }\n",
       "\n",
       "    .dataframe tbody tr th {\n",
       "        vertical-align: top;\n",
       "    }\n",
       "\n",
       "    .dataframe thead th {\n",
       "        text-align: right;\n",
       "    }\n",
       "</style>\n",
       "<table border=\"1\" class=\"dataframe\">\n",
       "  <thead>\n",
       "    <tr style=\"text-align: right;\">\n",
       "      <th></th>\n",
       "      <th>tweet</th>\n",
       "      <th>index</th>\n",
       "      <th>text</th>\n",
       "      <th>pos</th>\n",
       "      <th>conf</th>\n",
       "      <th>node</th>\n",
       "    </tr>\n",
       "  </thead>\n",
       "  <tbody>\n",
       "    <tr>\n",
       "      <th>0</th>\n",
       "      <td>1000007326789758987</td>\n",
       "      <td>7</td>\n",
       "      <td>poor</td>\n",
       "      <td>A</td>\n",
       "      <td>0.9889</td>\n",
       "      <td>1658</td>\n",
       "    </tr>\n",
       "    <tr>\n",
       "      <th>1</th>\n",
       "      <td>1000007326789758987</td>\n",
       "      <td>8</td>\n",
       "      <td>area</td>\n",
       "      <td>N</td>\n",
       "      <td>0.9991</td>\n",
       "      <td>133</td>\n",
       "    </tr>\n",
       "    <tr>\n",
       "      <th>2</th>\n",
       "      <td>1000007326789758987</td>\n",
       "      <td>13</td>\n",
       "      <td>find</td>\n",
       "      <td>V</td>\n",
       "      <td>0.9979</td>\n",
       "      <td>873</td>\n",
       "    </tr>\n",
       "    <tr>\n",
       "      <th>3</th>\n",
       "      <td>1000007326789758987</td>\n",
       "      <td>17</td>\n",
       "      <td>community</td>\n",
       "      <td>N</td>\n",
       "      <td>0.9951</td>\n",
       "      <td>410</td>\n",
       "    </tr>\n",
       "    <tr>\n",
       "      <th>4</th>\n",
       "      <td>1000007326789758987</td>\n",
       "      <td>18</td>\n",
       "      <td>provide</td>\n",
       "      <td>V</td>\n",
       "      <td>0.9899</td>\n",
       "      <td>1754</td>\n",
       "    </tr>\n",
       "  </tbody>\n",
       "</table>\n",
       "</div>"
      ],
      "text/plain": [
       "                 tweet  index       text pos    conf  node\n",
       "0  1000007326789758987      7       poor   A  0.9889  1658\n",
       "1  1000007326789758987      8       area   N  0.9991   133\n",
       "2  1000007326789758987     13       find   V  0.9979   873\n",
       "3  1000007326789758987     17  community   N  0.9951   410\n",
       "4  1000007326789758987     18    provide   V  0.9899  1754"
      ]
     },
     "execution_count": 44,
     "metadata": {},
     "output_type": "execute_result"
    }
   ],
   "source": [
    "# Map lemmas to node numbers\n",
    "words['node'] = words.apply(lambda w: w2i[(w.text, w.pos)], axis=1)\n",
    "words.head()"
   ]
  },
  {
   "cell_type": "code",
   "execution_count": 45,
   "metadata": {},
   "outputs": [
    {
     "data": {
      "text/html": [
       "<div>\n",
       "<style scoped>\n",
       "    .dataframe tbody tr th:only-of-type {\n",
       "        vertical-align: middle;\n",
       "    }\n",
       "\n",
       "    .dataframe tbody tr th {\n",
       "        vertical-align: top;\n",
       "    }\n",
       "\n",
       "    .dataframe thead th {\n",
       "        text-align: right;\n",
       "    }\n",
       "</style>\n",
       "<table border=\"1\" class=\"dataframe\">\n",
       "  <thead>\n",
       "    <tr style=\"text-align: right;\">\n",
       "      <th></th>\n",
       "      <th>created_at</th>\n",
       "      <th>id_str</th>\n",
       "      <th>text</th>\n",
       "      <th>truncated</th>\n",
       "      <th>geo</th>\n",
       "      <th>coordinates</th>\n",
       "      <th>place</th>\n",
       "      <th>retweet_count</th>\n",
       "      <th>favourite_count</th>\n",
       "      <th>in_reply_to_status_id_str</th>\n",
       "      <th>in_reply_to_user_id_str</th>\n",
       "      <th>lang</th>\n",
       "    </tr>\n",
       "  </thead>\n",
       "  <tbody>\n",
       "    <tr>\n",
       "      <th>0</th>\n",
       "      <td>2018-06-30 22:35:06+00:00</td>\n",
       "      <td>1013189209488797697</td>\n",
       "      <td>#PrideMonth may be ending today, but we will c...</td>\n",
       "      <td>True</td>\n",
       "      <td>NaN</td>\n",
       "      <td>NaN</td>\n",
       "      <td>NaN</td>\n",
       "      <td>73</td>\n",
       "      <td>NaN</td>\n",
       "      <td>NaN</td>\n",
       "      <td>NaN</td>\n",
       "      <td>en</td>\n",
       "    </tr>\n",
       "    <tr>\n",
       "      <th>1</th>\n",
       "      <td>2018-06-30 19:35:07+00:00</td>\n",
       "      <td>1013143915308953606</td>\n",
       "      <td>“This disaster leaves us in extreme poverty......</td>\n",
       "      <td>True</td>\n",
       "      <td>NaN</td>\n",
       "      <td>NaN</td>\n",
       "      <td>NaN</td>\n",
       "      <td>28</td>\n",
       "      <td>NaN</td>\n",
       "      <td>NaN</td>\n",
       "      <td>NaN</td>\n",
       "      <td>en</td>\n",
       "    </tr>\n",
       "    <tr>\n",
       "      <th>2</th>\n",
       "      <td>2018-06-30 18:35:07+00:00</td>\n",
       "      <td>1013128815575470081</td>\n",
       "      <td>We want more women on ballots 🗳️ when we go ou...</td>\n",
       "      <td>True</td>\n",
       "      <td>NaN</td>\n",
       "      <td>NaN</td>\n",
       "      <td>NaN</td>\n",
       "      <td>56</td>\n",
       "      <td>NaN</td>\n",
       "      <td>NaN</td>\n",
       "      <td>NaN</td>\n",
       "      <td>en</td>\n",
       "    </tr>\n",
       "    <tr>\n",
       "      <th>3</th>\n",
       "      <td>2018-06-30 16:35:09+00:00</td>\n",
       "      <td>1013098625768009728</td>\n",
       "      <td>“The idea that sexism &amp;amp; misogyny in online...</td>\n",
       "      <td>True</td>\n",
       "      <td>NaN</td>\n",
       "      <td>NaN</td>\n",
       "      <td>NaN</td>\n",
       "      <td>107</td>\n",
       "      <td>NaN</td>\n",
       "      <td>NaN</td>\n",
       "      <td>NaN</td>\n",
       "      <td>en</td>\n",
       "    </tr>\n",
       "    <tr>\n",
       "      <th>4</th>\n",
       "      <td>2018-06-30 15:05:12+00:00</td>\n",
       "      <td>1013075989885341697</td>\n",
       "      <td>When women are targeted online, the abuse is m...</td>\n",
       "      <td>True</td>\n",
       "      <td>NaN</td>\n",
       "      <td>NaN</td>\n",
       "      <td>NaN</td>\n",
       "      <td>209</td>\n",
       "      <td>NaN</td>\n",
       "      <td>NaN</td>\n",
       "      <td>NaN</td>\n",
       "      <td>en</td>\n",
       "    </tr>\n",
       "  </tbody>\n",
       "</table>\n",
       "</div>"
      ],
      "text/plain": [
       "                 created_at               id_str  \\\n",
       "0 2018-06-30 22:35:06+00:00  1013189209488797697   \n",
       "1 2018-06-30 19:35:07+00:00  1013143915308953606   \n",
       "2 2018-06-30 18:35:07+00:00  1013128815575470081   \n",
       "3 2018-06-30 16:35:09+00:00  1013098625768009728   \n",
       "4 2018-06-30 15:05:12+00:00  1013075989885341697   \n",
       "\n",
       "                                                text  truncated  geo  \\\n",
       "0  #PrideMonth may be ending today, but we will c...       True  NaN   \n",
       "1  “This disaster leaves us in extreme poverty......       True  NaN   \n",
       "2  We want more women on ballots 🗳️ when we go ou...       True  NaN   \n",
       "3  “The idea that sexism &amp; misogyny in online...       True  NaN   \n",
       "4  When women are targeted online, the abuse is m...       True  NaN   \n",
       "\n",
       "   coordinates  place  retweet_count  favourite_count  \\\n",
       "0          NaN    NaN             73              NaN   \n",
       "1          NaN    NaN             28              NaN   \n",
       "2          NaN    NaN             56              NaN   \n",
       "3          NaN    NaN            107              NaN   \n",
       "4          NaN    NaN            209              NaN   \n",
       "\n",
       "   in_reply_to_status_id_str  in_reply_to_user_id_str lang  \n",
       "0                        NaN                      NaN   en  \n",
       "1                        NaN                      NaN   en  \n",
       "2                        NaN                      NaN   en  \n",
       "3                        NaN                      NaN   en  \n",
       "4                        NaN                      NaN   en  "
      ]
     },
     "execution_count": 45,
     "metadata": {},
     "output_type": "execute_result"
    }
   ],
   "source": [
    "# Load tweets dataset table\n",
    "tweets = load_tweets('data/database/tweets.csv')\n",
    "tweets.head()"
   ]
  },
  {
   "cell_type": "markdown",
   "metadata": {},
   "source": [
    "## Dataset statistics\n",
    "\n",
    "### Number of tweets"
   ]
  },
  {
   "cell_type": "code",
   "execution_count": 46,
   "metadata": {},
   "outputs": [
    {
     "data": {
      "image/png": "[encoded data removed]",
      "text/plain": [
       "<Figure size 540x360 with 1 Axes>"
      ]
     },
     "metadata": {
      "needs_background": "light"
     },
     "output_type": "display_data"
    }
   ],
   "source": [
    "# Define words from tweets of 2017 and the ones from tweets of 2018\n",
    "tweets_2017 = tweets.id_str[tweets.created_at.dt.year == 2017].values\n",
    "tweets_2018 = tweets.id_str[tweets.created_at.dt.year == 2018].values\n",
    "\n",
    "# Show tweets distribution\n",
    "fig, ax = plt.subplots(figsize=(7.5, 5))\n",
    "_ = ax.set_title('Tweet count for 2017 and 2018 analyzed period')\n",
    "_ = ax.bar(['2017'], [len(tweets_2017)])\n",
    "_ = ax.bar(['2018'], [len(tweets_2018)])\n",
    "_ = plt.show()"
   ]
  },
  {
   "cell_type": "markdown",
   "metadata": {},
   "source": [
    "### Words count"
   ]
  },
  {
   "cell_type": "code",
   "execution_count": 47,
   "metadata": {},
   "outputs": [
    {
     "data": {
      "image/png": "[encoded data removed]",
      "text/plain": [
       "<Figure size 540x360 with 1 Axes>"
      ]
     },
     "metadata": {
      "needs_background": "light"
     },
     "output_type": "display_data"
    }
   ],
   "source": [
    "# Show word counts in tweets of 2017 and 2018 respectively\n",
    "fig, ax = plt.subplots(figsize=(7.5, 5))\n",
    "_ = ax.set_title('Words count for 2017 and 2018 analyzed period')\n",
    "_ = ax.bar(['2017'], sum(words.tweet.isin(tweets_2017)))\n",
    "_ = ax.bar(['2018'], sum(words.tweet.isin(tweets_2018)))\n",
    "_ = plt.show()"
   ]
  },
  {
   "cell_type": "markdown",
   "metadata": {},
   "source": [
    "### Unique words count"
   ]
  },
  {
   "cell_type": "code",
   "execution_count": 48,
   "metadata": {},
   "outputs": [
    {
     "data": {
      "image/png": "[encoded data removed]",
      "text/plain": [
       "<Figure size 540x360 with 1 Axes>"
      ]
     },
     "metadata": {
      "needs_background": "light"
     },
     "output_type": "display_data"
    }
   ],
   "source": [
    "# Show unique word counts in tweets of 2017 and 2018 respectively\n",
    "\n",
    "unique_words_2017 = words.text[words.tweet.isin(tweets_2017)].unique()\n",
    "unique_words_2018 = words.text[words.tweet.isin(tweets_2018)].unique()\n",
    "\n",
    "fig, ax = plt.subplots(figsize=(7.5, 5))\n",
    "_ = ax.set_title('Words count for 2017 and 2018 analyzed period')\n",
    "_ = ax.bar(['2017'], unique_words_2017.shape[0])\n",
    "_ = ax.bar(['2018'], unique_words_2018.shape[0])\n",
    "_ = plt.show()"
   ]
  },
  {
   "cell_type": "markdown",
   "metadata": {},
   "source": [
    "### Tweets lengths distributions\n",
    "\n",
    "Histogram shows the distribution of tweet lengths in either 2017's and 2018'2 network. The difference in the two distributions is due to the fact that in november 2017 the allowed tweet lengths in term of characters has been duplicated by Twitter itself."
   ]
  },
  {
   "cell_type": "code",
   "execution_count": 49,
   "metadata": {},
   "outputs": [
    {
     "data": {
      "image/png": "[encoded data removed]",
      "text/plain": [
       "<Figure size 1080x360 with 2 Axes>"
      ]
     },
     "metadata": {
      "needs_background": "light"
     },
     "output_type": "display_data"
    }
   ],
   "source": [
    "# Compute length of each tweet, for either words and characters\n",
    "tweets_ = tweets.loc[:, ['id_str']]\n",
    "tweets_['len_words'] = tweets.apply(lambda t: len(t.text.split(' ')), axis=1)\n",
    "tweets_['len_chars'] = tweets.apply(lambda t: len(t.text), axis=1)\n",
    "\n",
    "# Get 2017 and 2018 tweets\n",
    "tweets_2017_ = tweets_[tweets_['id_str'].isin(tweets_2017)]\n",
    "tweets_2018_ = tweets_[tweets_['id_str'].isin(tweets_2018)]\n",
    "\n",
    "# Show distribution of words number per tweet in 2017 and 2018\n",
    "fig, axs = plt.subplots(1, 2, figsize=(15, 5))\n",
    "# Word lengths\n",
    "_ = axs[0].set_title('Number of words per tweet in 2017 and 2018')\n",
    "_ = axs[0].hist(tweets_2017_['len_words'], bins=25, density=True, alpha=.7)\n",
    "_ = axs[0].hist(tweets_2018_['len_words'], bins=50, density=True, alpha=.7)\n",
    "_ = axs[0].legend(['Tweet length in 2017', 'Tweet length in 2018'])\n",
    "# Charactes lengths\n",
    "_ = axs[1].set_title('Number of characters per tweet in 2017 and 2018')\n",
    "_ = axs[1].hist(tweets_2017_['len_chars'], bins=25, density=True, alpha=.7)\n",
    "_ = axs[1].hist(tweets_2018_['len_chars'], bins=50, density=True, alpha=.7)\n",
    "_ = axs[1].legend(['Tweet length in 2017', 'Tweet length in 2018'])\n",
    "# Make plot\n",
    "_ = plt.show()"
   ]
  },
  {
   "cell_type": "markdown",
   "metadata": {},
   "source": [
    "# Network creation\n",
    "\n",
    "## Edges creation"
   ]
  },
  {
   "cell_type": "code",
   "execution_count": 50,
   "metadata": {},
   "outputs": [],
   "source": [
    "# Define years under examination\n",
    "years = [2017, 2018]"
   ]
  },
  {
   "cell_type": "code",
   "execution_count": 51,
   "metadata": {},
   "outputs": [],
   "source": [
    "# Define edges for 2017 and 2018 (as Pandas DataFrames)\n",
    "edges = dict()\n",
    "# Define edges for each network\n",
    "for y in years:\n",
    "    # Get id of tweets for current year\n",
    "    tweet_ids = tweets.id_str[tweets.created_at.dt.year == y]\n",
    "    # Compute edges for current year\n",
    "    edges[y] = get_edges(words[words.tweet.isin(tweet_ids)])"
   ]
  },
  {
   "cell_type": "code",
   "execution_count": 52,
   "metadata": {},
   "outputs": [],
   "source": [
    "# Save all to disk\n",
    "\n",
    "# Save vocabularies\n",
    "np.save('data/edges_w2i.npy', w2i)  # Save tuple to index vocabulary\n",
    "np.save('data/edges_i2w.npy', i2w)  # Save index to tuple vocabulary\n",
    "\n",
    "# Save edges to disk each edge list\n",
    "for y in years:\n",
    "    edges[y].to_csv('data/database/edges_{:d}.csv'.format(y), index=False)"
   ]
  },
  {
   "cell_type": "code",
   "execution_count": 53,
   "metadata": {},
   "outputs": [
    {
     "name": "stdout",
     "output_type": "stream",
     "text": [
      "Edges for 2017's network\n"
     ]
    },
    {
     "data": {
      "text/html": [
       "<div>\n",
       "<style scoped>\n",
       "    .dataframe tbody tr th:only-of-type {\n",
       "        vertical-align: middle;\n",
       "    }\n",
       "\n",
       "    .dataframe tbody tr th {\n",
       "        vertical-align: top;\n",
       "    }\n",
       "\n",
       "    .dataframe thead th {\n",
       "        text-align: right;\n",
       "    }\n",
       "</style>\n",
       "<table border=\"1\" class=\"dataframe\">\n",
       "  <thead>\n",
       "    <tr style=\"text-align: right;\">\n",
       "      <th></th>\n",
       "      <th>node_x</th>\n",
       "      <th>node_y</th>\n",
       "      <th>counts</th>\n",
       "    </tr>\n",
       "  </thead>\n",
       "  <tbody>\n",
       "    <tr>\n",
       "      <th>0</th>\n",
       "      <td>0</td>\n",
       "      <td>654</td>\n",
       "      <td>1</td>\n",
       "    </tr>\n",
       "    <tr>\n",
       "      <th>1</th>\n",
       "      <td>0</td>\n",
       "      <td>2466</td>\n",
       "      <td>1</td>\n",
       "    </tr>\n",
       "    <tr>\n",
       "      <th>2</th>\n",
       "      <td>0</td>\n",
       "      <td>2469</td>\n",
       "      <td>1</td>\n",
       "    </tr>\n",
       "    <tr>\n",
       "      <th>3</th>\n",
       "      <td>4</td>\n",
       "      <td>210</td>\n",
       "      <td>1</td>\n",
       "    </tr>\n",
       "    <tr>\n",
       "      <th>4</th>\n",
       "      <td>4</td>\n",
       "      <td>1076</td>\n",
       "      <td>1</td>\n",
       "    </tr>\n",
       "  </tbody>\n",
       "</table>\n",
       "</div>"
      ],
      "text/plain": [
       "   node_x  node_y  counts\n",
       "0       0     654       1\n",
       "1       0    2466       1\n",
       "2       0    2469       1\n",
       "3       4     210       1\n",
       "4       4    1076       1"
      ]
     },
     "execution_count": 53,
     "metadata": {},
     "output_type": "execute_result"
    }
   ],
   "source": [
    "print('Edges for 2017\\'s network')\n",
    "edges[2017].head()"
   ]
  },
  {
   "cell_type": "code",
   "execution_count": 54,
   "metadata": {},
   "outputs": [
    {
     "name": "stdout",
     "output_type": "stream",
     "text": [
      "Edges for 2018's network\n"
     ]
    },
    {
     "data": {
      "text/html": [
       "<div>\n",
       "<style scoped>\n",
       "    .dataframe tbody tr th:only-of-type {\n",
       "        vertical-align: middle;\n",
       "    }\n",
       "\n",
       "    .dataframe tbody tr th {\n",
       "        vertical-align: top;\n",
       "    }\n",
       "\n",
       "    .dataframe thead th {\n",
       "        text-align: right;\n",
       "    }\n",
       "</style>\n",
       "<table border=\"1\" class=\"dataframe\">\n",
       "  <thead>\n",
       "    <tr style=\"text-align: right;\">\n",
       "      <th></th>\n",
       "      <th>node_x</th>\n",
       "      <th>node_y</th>\n",
       "      <th>counts</th>\n",
       "    </tr>\n",
       "  </thead>\n",
       "  <tbody>\n",
       "    <tr>\n",
       "      <th>0</th>\n",
       "      <td>1</td>\n",
       "      <td>227</td>\n",
       "      <td>1</td>\n",
       "    </tr>\n",
       "    <tr>\n",
       "      <th>1</th>\n",
       "      <td>1</td>\n",
       "      <td>323</td>\n",
       "      <td>1</td>\n",
       "    </tr>\n",
       "    <tr>\n",
       "      <th>2</th>\n",
       "      <td>1</td>\n",
       "      <td>772</td>\n",
       "      <td>1</td>\n",
       "    </tr>\n",
       "    <tr>\n",
       "      <th>3</th>\n",
       "      <td>1</td>\n",
       "      <td>1000</td>\n",
       "      <td>1</td>\n",
       "    </tr>\n",
       "    <tr>\n",
       "      <th>4</th>\n",
       "      <td>1</td>\n",
       "      <td>1429</td>\n",
       "      <td>1</td>\n",
       "    </tr>\n",
       "  </tbody>\n",
       "</table>\n",
       "</div>"
      ],
      "text/plain": [
       "   node_x  node_y  counts\n",
       "0       1     227       1\n",
       "1       1     323       1\n",
       "2       1     772       1\n",
       "3       1    1000       1\n",
       "4       1    1429       1"
      ]
     },
     "execution_count": 54,
     "metadata": {},
     "output_type": "execute_result"
    }
   ],
   "source": [
    "print('Edges for 2018\\'s network')\n",
    "edges[2018].head()"
   ]
  },
  {
   "cell_type": "markdown",
   "metadata": {},
   "source": [
    "## Adjacency matrices\n",
    "\n",
    "Compute upper triangular adjacency matrices for either 2017's and 2018's networks. \n",
    "\n",
    "Note: adjacency matrices are saved by default to avoid recomputing."
   ]
  },
  {
   "cell_type": "code",
   "execution_count": 55,
   "metadata": {},
   "outputs": [],
   "source": [
    "# Define networks container\n",
    "network = dict()\n",
    "# Create newtorks\n",
    "for y in years:\n",
    "    network[y] = nx.from_pandas_edgelist(edges[y], source='node_x', target='node_y', \n",
    "                                         edge_attr='counts', create_using=nx.Graph)"
   ]
  },
  {
   "cell_type": "code",
   "execution_count": 56,
   "metadata": {},
   "outputs": [],
   "source": [
    "# Get numpy adjacency matrices\n",
    "adj_matrix = dict()\n",
    "for y in years:\n",
    "    adj_matrix[y] = nx.to_numpy_matrix(network[y], weight='counts')"
   ]
  },
  {
   "cell_type": "code",
   "execution_count": 57,
   "metadata": {},
   "outputs": [
    {
     "data": {
      "image/png": "[encoded data removed]",
      "text/plain": [
       "<Figure size 1080x360 with 2 Axes>"
      ]
     },
     "metadata": {
      "needs_background": "light"
     },
     "output_type": "display_data"
    }
   ],
   "source": [
    "# Show adjacency matrices\n",
    "fig, axs = plt.subplots(1, 2, figsize=(15, 5))\n",
    "# Print adjacency matrix for each network\n",
    "for i, y in enumerate(years):\n",
    "    _ = axs[i].set_title('{:d}\\'s network adjacency matrix'.format(y))\n",
    "    _ = axs[i].imshow(np.minimum(adj_matrix[y], np.ones(adj_matrix[y].shape)))\n",
    "_ = plt.show()"
   ]
  },
  {
   "cell_type": "markdown",
   "metadata": {},
   "source": [
    "## Summary statistics\n",
    "\n",
    "Compute mean, density, and other summary statistics for both 2017's and 2018's networks"
   ]
  },
  {
   "cell_type": "code",
   "execution_count": 58,
   "metadata": {},
   "outputs": [
    {
     "name": "stdout",
     "output_type": "stream",
     "text": [
      "2017's network has mean=0.0113 and density=0.0090\n",
      "2018's network has mean=0.0223 and density=0.0147\n"
     ]
    }
   ],
   "source": [
    "# Initialize summary statistics\n",
    "mean = {}\n",
    "density = {}\n",
    "\n",
    "# Compute mean and density\n",
    "for y in years:\n",
    "    x = adj_matrix[y]  # Get adjacency matrix for current network\n",
    "    n = x.shape[0]  # Get dimension of the adjacency matrix\n",
    "    mean[y] = x.sum().sum() / (n * (n - 1))\n",
    "    density[y] = np.minimum(x, np.ones((n, n))).sum().sum() / (n * (n - 1))\n",
    "\n",
    "# Print out results\n",
    "for y in years:\n",
    "    print('{:d}\\'s network has mean={:.04f} and density={:.04f}'.format(y, mean[y], density[y]))"
   ]
  },
  {
   "cell_type": "code",
   "execution_count": 59,
   "metadata": {},
   "outputs": [
    {
     "data": {
      "image/png": "[encoded data removed]",
      "text/plain": [
       "<Figure size 1080x360 with 2 Axes>"
      ]
     },
     "metadata": {
      "needs_background": "light"
     },
     "output_type": "display_data"
    }
   ],
   "source": [
    "# Show summary statistics graphically\n",
    "fig, axs = plt.subplots(1, 2, figsize=(15, 5))\n",
    "_ = axs[0].set_title('Mean')\n",
    "_ = axs[1].set_title('Density')\n",
    "# Print scores for either 2017 and 2018\n",
    "for y in years:\n",
    "    _ = axs[0].bar(str(y), mean[y])\n",
    "    _ = axs[1].bar(str(y), density[y])\n",
    "# Make plot\n",
    "_ = plt.show()"
   ]
  },
  {
   "cell_type": "markdown",
   "metadata": {},
   "source": [
    "## Degrees analysis"
   ]
  },
  {
   "cell_type": "code",
   "execution_count": 60,
   "metadata": {},
   "outputs": [
    {
     "data": {
      "image/png": "[encoded data removed]",
      "text/plain": [
       "<Figure size 2160x360 with 1 Axes>"
      ]
     },
     "metadata": {
      "needs_background": "light"
     },
     "output_type": "display_data"
    }
   ],
   "source": [
    "# Compare degrees graphically\n",
    "fig, ax = plt.subplots(figsize=(30, 5))\n",
    "_ = fig.suptitle('Distribution of the networks degrees')\n",
    "_ = ax.hist(get_degree(network[2017]), bins=500, alpha=0.7)\n",
    "_ = ax.hist(get_degree(network[2018]), bins=500, alpha=0.7)\n",
    "_ = ax.set_xlim(0, 200)\n",
    "_ = ax.legend(['Degree of the network in 2017',\n",
    "               'Degree of the network in 2018'])\n",
    "_ = plt.show()"
   ]
  },
  {
   "cell_type": "code",
   "execution_count": 61,
   "metadata": {},
   "outputs": [],
   "source": [
    "# Define function for computing degree analysis (compute pdf, cdf, ...)\n",
    "def make_degree_analysis(network):\n",
    "    \"\"\"\n",
    "    Input:\n",
    "    - degrees Pandas Series node (index) maps to its degree (value)\n",
    "    Output:\n",
    "    - degree: list of degrees\n",
    "    - counts: list containing count for each degree \n",
    "    - pdf (probability distribution function): list\n",
    "    - cdf (cumulative distribution function): list\n",
    "    \"\"\"\n",
    "    # Get number of times a degree appeared in the network\n",
    "    degree = get_degree(network)\n",
    "    degree, count = np.unique(degree.values, return_counts=True)\n",
    "    pdf = count / np.sum(count)  # Compute pdf\n",
    "    cdf = list(1 - np.cumsum(pdf))[:-1] + [0]  # Compute cdf\n",
    "    # Return computed statistics\n",
    "    return degree, count, pdf, cdf"
   ]
  },
  {
   "cell_type": "code",
   "execution_count": 62,
   "metadata": {},
   "outputs": [],
   "source": [
    "# Define function for plotting degree analysis\n",
    "def plot_degree_analysis(network):\n",
    "    \n",
    "    # Initialize plot\n",
    "    fig, axs = plt.subplots(1, 3, figsize=(15, 5))\n",
    "    _ = axs[0].set_title('Probability Distribution Function')\n",
    "    _ = axs[1].set_title('Log-log Probability Distribution Function')\n",
    "    _ = axs[2].set_title('Log-log Cumulative Distribution Function')\n",
    "    \n",
    "    # Create plot fore each network\n",
    "    for i, y in enumerate(network.keys()):\n",
    "        # Compute degree statistics\n",
    "        k, count, pdf, cdf = make_degree_analysis(network[y])\n",
    "        # Make plots\n",
    "        _ = axs[0].plot(k, pdf, 'o', alpha=.7)\n",
    "        _ = axs[1].loglog(k, pdf, 'o', alpha=.7)\n",
    "        _ = axs[2].loglog(k, cdf, 'o', alpha=.7)\n",
    "\n",
    "    # Show plots\n",
    "    _ = [axs[i].legend([str(y) for y in network.keys()], loc='upper right') for i in range(3)]\n",
    "    _ = plt.show()"
   ]
  },
  {
   "cell_type": "code",
   "execution_count": 63,
   "metadata": {},
   "outputs": [
    {
     "data": {
      "image/png": "[encoded data removed]",
      "text/plain": [
       "<Figure size 1080x360 with 3 Axes>"
      ]
     },
     "metadata": {
      "needs_background": "light"
     },
     "output_type": "display_data"
    }
   ],
   "source": [
    "# Plot pdf, cdf, log-log, ... of each network\n",
    "plot_degree_analysis(network)"
   ]
  },
  {
   "cell_type": "markdown",
   "metadata": {},
   "source": [
    "# Scale-free property\n",
    "\n",
    "## Power law estimation"
   ]
  },
  {
   "cell_type": "code",
   "execution_count": 64,
   "metadata": {},
   "outputs": [],
   "source": [
    "# Estimate power law parameters for each network\n",
    "\n",
    "# Initialize power law parameters\n",
    "power_law = {\n",
    "    2017: {'k_sat': 4},\n",
    "    2018: {'k_sat': 7}\n",
    "}\n",
    "\n",
    "# Define parameters for each network\n",
    "for i, y in enumerate(years):\n",
    "    # Get the unique values of degree and their counts\n",
    "    degree = get_degree(network[y])\n",
    "    k, count = np.unique(degree, return_counts=True)\n",
    "    k_sat = power_law[y]['k_sat']\n",
    "    # Define minumum and maximum k (degree)\n",
    "    power_law[y]['k_min'] = k_min = np.min(k)\n",
    "    power_law[y]['k_max'] = k_max = np.max(k)\n",
    "    # Estimate parameters\n",
    "    n = degree[k_sat:].shape[0]\n",
    "    gamma = 1 + n / np.sum(np.log(degree[k_sat:] / k_sat))\n",
    "    c = (gamma - 1) * k_sat ** (gamma - 1)\n",
    "    # Compute cutoff\n",
    "    cutoff = k_sat * n ** (1 / (gamma - 1))\n",
    "    # Store parameters\n",
    "    power_law[y]['gamma'] = gamma\n",
    "    power_law[y]['c'] = c\n",
    "    power_law[y]['cutoff'] = cutoff"
   ]
  },
  {
   "cell_type": "code",
   "execution_count": 65,
   "metadata": {},
   "outputs": [
    {
     "name": "stdout",
     "output_type": "stream",
     "text": [
      "Power law estimated parameters for 2017's network:\n",
      "  gamma=2.216, c=6.555, cutoff=1791.365, min.degree=1, max.degree=1687\n",
      "Power law estimated parameters for 2018's network:\n",
      "  gamma=2.144, c=10.610, cutoff=5031.222, min.degree=1, max.degree=3847\n"
     ]
    }
   ],
   "source": [
    "# Pront out coefficients\n",
    "for y in power_law.keys():\n",
    "    # Retrieve parameters\n",
    "    gamma, c, cutoff = power_law[y]['gamma'], power_law[y]['c'], power_law[y]['cutoff']\n",
    "    k_min, k_max = power_law[y]['k_min'], power_law[y]['k_max']\n",
    "    # Print results\n",
    "    out = 'Power law estimated parameters for {:d}\\'s network:\\n'\n",
    "    out += '  gamma={:.03f}, c={:.03f}, cutoff={:.03f}, min.degree={:d}, max.degree={:d}'\n",
    "    print(out.format(y, gamma, c, cutoff, k_min, k_max))"
   ]
  },
  {
   "cell_type": "code",
   "execution_count": 66,
   "metadata": {},
   "outputs": [
    {
     "data": {
      "image/png": "[encoded data removed]",
      "text/plain": [
       "<Figure size 1080x360 with 1 Axes>"
      ]
     },
     "metadata": {
      "needs_background": "light"
     },
     "output_type": "display_data"
    }
   ],
   "source": [
    "# Define regression lines values for either 2017 and 2018 distributions\n",
    "\n",
    "# Define regression lines container\n",
    "regression_line = {}\n",
    "# Define maximum degree, for both years together\n",
    "k_max = np.max([power_law[y]['k_max'] for y in power_law.keys()])\n",
    "# Compute regression lines\n",
    "for y in power_law.keys():\n",
    "    # Retrieve parameters gamma and c\n",
    "    gamma = power_law[y]['gamma']\n",
    "    c = power_law[y]['c']\n",
    "    # Compute regression line\n",
    "    regression_line[y] = c * np.arange(1, k_max) ** (1 - gamma) / (gamma - 1)\n",
    "\n",
    "# Plot results\n",
    "fig, ax = plt.subplots(figsize=(15, 5))\n",
    "_ = ax.set_title('Log-log Cumulative Distribution Function')\n",
    "# Print  every network\n",
    "for i, y in enumerate(power_law.keys()):\n",
    "    # Retrieve degree analysis values\n",
    "    k, count, pdf, cdf = make_degree_analysis(network[y])\n",
    "    # Print dots\n",
    "    _ = ax.loglog(k, cdf, 'o', alpha=.7, color=colors[i])\n",
    "    # Print regression line\n",
    "    _ = ax.loglog(np.arange(1, k_max), regression_line[y], color=colors[i])\n",
    "# Make plot\n",
    "_ = ax.legend(['2017']*2 + ['2018']*2, loc='lower left')\n",
    "# _ = ax.grid()\n",
    "_ = plt.show()"
   ]
  },
  {
   "cell_type": "markdown",
   "metadata": {},
   "source": [
    "# Small-world property\n",
    "\n",
    "## Connected components"
   ]
  },
  {
   "cell_type": "code",
   "execution_count": null,
   "metadata": {},
   "outputs": [],
   "source": [
    "# Extract cardinality of connected components and diameter of the giant component for both nets\n",
    "\n",
    "\"\"\"# Initialize components container\n",
    "connected_components = {}\n",
    "\n",
    "# Compute giant component for every network\n",
    "for i, y in enumerate(network.keys()):\n",
    "    # Compute connected component\n",
    "    cc = sorted(nx.connected_components(network[y]), key=len, reverse=True)        \n",
    "    # Compute diameter of the giant component\n",
    "    d = nx.diameter(network[y].subgraph(cc[0]))\n",
    "    # Store the tuple (giant component, cardinality, diameter)\n",
    "    connected_components[y] = []\n",
    "    connected_components[y].append({\n",
    "        'component': cc[0],\n",
    "        'size': len(cc[0]),\n",
    "        'diameter': d\n",
    "    })\n",
    "    # Store each component\n",
    "    for component in cc[1:]:\n",
    "        # Add component, without diameter\n",
    "        connected_components[y].append({\n",
    "            'component': component,\n",
    "            'size': len(component)\n",
    "        })\n",
    "\n",
    "# Save connected components to disk\n",
    "np.save('data/connected_components.npy', connected_components)\"\"\""
   ]
  },
  {
   "cell_type": "code",
   "execution_count": null,
   "metadata": {},
   "outputs": [],
   "source": [
    "# Load connected components from file\n",
    "connected_components = np.load('data/connected_components.npy', allow_pickle=True).item()\n",
    "\n",
    "# Show connected components info for each year\n",
    "for y in years:\n",
    "    # Retrieve connected component\n",
    "    cc = connected_components[y]\n",
    "    # Show giant component info\n",
    "    print('Network {:d}'.format(y))\n",
    "    print('Giant component has cardinality={:d} and diameter={:d}'.format(cc[0]['size'], cc[0]['diameter']))\n",
    "    # Store each component\n",
    "    for j, component in enumerate(cc):\n",
    "          if j == 0: continue\n",
    "          # Show other components\n",
    "          print('Connected component nr {:d} has cardinality={:d}'.format(j + 1, component['size']))\n",
    "    print()"
   ]
  },
  {
   "cell_type": "markdown",
   "metadata": {},
   "source": [
    "## Clustering coefficient"
   ]
  },
  {
   "cell_type": "code",
   "execution_count": null,
   "metadata": {},
   "outputs": [],
   "source": [
    "# Compute and show chlustering coefficients\n",
    "\n",
    "# Compute clustering coefficients\n",
    "clust_coef = {y: pd.Series(nx.clustering(network[y],weight='counts')) for y in years}\n",
    "\n",
    "# Make plot\n",
    "fig, axs = plt.subplots(1, 2, figsize=(15, 8), sharey=True)\n",
    "# Loop through each network\n",
    "for i, y in enumerate(years):\n",
    "    cc = clust_coef[y]\n",
    "    _ = axs[i].set_title('{:d}\\'s network'.format(y))\n",
    "    _ = axs[i].plot(cc.index.values, cc.values, 'x', mec=colors[i])\n",
    "    _ = axs[i].grid()\n",
    "# Show plot\n",
    "_ = plt.show()"
   ]
  },
  {
   "cell_type": "code",
   "execution_count": null,
   "metadata": {},
   "outputs": [],
   "source": [
    "giant = {y: connected_components[y][0]['component'] for y in years}\n",
    "\n",
    "# Compute the average shortest path length for both nets\n",
    "L = {y: nx.average_shortest_path_length(network[y].subgraph(giant[y]), weight='counts', method='floyd-warshall-numpy') for y in years}"
   ]
  },
  {
   "cell_type": "code",
   "execution_count": null,
   "metadata": {},
   "outputs": [],
   "source": [
    "for y in years:\n",
    "    print('Network {:d}'.format(y))\n",
    "    N = len(network[y].nodes)\n",
    "    print('log N: {:.4f}'.format( np.log(N) ))\n",
    "    print('log log N: {:.4f}'.format( np.log( np.log(N) ) ))\n",
    "    print('Average shortest path length: {:.4f}'.format(L[y]))\n",
    "    print('Average clustering coefficient: {:.4f}'.format(np.mean(clust_coef[y])))\n",
    "    print()"
   ]
  },
  {
   "cell_type": "markdown",
   "metadata": {},
   "source": [
    "# Ranking\n",
    "\n",
    "## Ranking by degree"
   ]
  },
  {
   "cell_type": "code",
   "execution_count": null,
   "metadata": {},
   "outputs": [],
   "source": [
    "# Define subset (firs n-th)\n",
    "best = 20\n",
    "\n",
    "# Make plot\n",
    "fig, axs = plt.subplots(1, 2, figsize=(15, 5))\n",
    "# Plot each network\n",
    "for i, y in enumerate(years):\n",
    "    degree = get_degree(network[y]).sort_values(ascending=False)\n",
    "    _ = axs[i].set_title('Best nodes in {:d}\\'s network'.format(y))\n",
    "    _ = axs[i].bar(degree.index[:best].map(lambda x: str(i2w[x])), degree.values[:best])\n",
    "    _ = axs[i].tick_params(axis='x', labelrotation=60)\n",
    "# Show plot\n",
    "_ = plt.show()"
   ]
  },
  {
   "cell_type": "markdown",
   "metadata": {},
   "source": [
    "## Ranking by betweenness"
   ]
  },
  {
   "cell_type": "code",
   "execution_count": null,
   "metadata": {},
   "outputs": [],
   "source": [
    "\"\"\"# Compute betweenness centrality measure for nodes (on giant components)\n",
    "\n",
    "betweenness = {}\n",
    "\n",
    "for y in years:\n",
    "    # Define giant component subgraph\n",
    "    giant_component = connected_components[y][0]['component']\n",
    "    subgraph = nx.induced_subgraph(network[y], giant_component)\n",
    "    # Compute betweenness\n",
    "    betweenness[y] = nx.betweenness_centrality(subgraph,weight='counts')\n",
    "    \n",
    "# Save betweenness as numpy array\n",
    "np.save('data/betweenness.npy', betweenness)\"\"\""
   ]
  },
  {
   "cell_type": "code",
   "execution_count": null,
   "metadata": {},
   "outputs": [],
   "source": [
    "# Load betweenness\n",
    "betweenness = np.load('data/betweenness.npy', allow_pickle=True).item()"
   ]
  },
  {
   "cell_type": "code",
   "execution_count": null,
   "metadata": {},
   "outputs": [],
   "source": [
    "# Define subset (firs n-th)\n",
    "best = 20\n",
    "\n",
    "# Make plot\n",
    "fig, axs = plt.subplots(1, 2, figsize=(15, 5))\n",
    "for i, y in enumerate(years):\n",
    "    btw = pd.Series(betweenness[y]).sort_values(ascending=False)\n",
    "    _ = axs[i].set_title('Best nodes in {:d}\\'s network'.format(y))\n",
    "    _ = axs[i].bar(btw.index[:best].map(lambda x: str(i2w[x])), btw.values[:best])\n",
    "    _ = axs[i].tick_params(axis='x', labelrotation=60)\n",
    "_ = plt.show()"
   ]
  },
  {
   "cell_type": "markdown",
   "metadata": {},
   "source": [
    "## Differencen between node sets"
   ]
  },
  {
   "cell_type": "code",
   "execution_count": 158,
   "metadata": {},
   "outputs": [
    {
     "name": "stdout",
     "output_type": "stream",
     "text": [
      "Percentage of words in 2017 but not in 2018: 36 %\n"
     ]
    }
   ],
   "source": [
    "x = len(set(network[2017].nodes) - set(network[2018].nodes))/len(set(network[2017].nodes)) * 100\n",
    "print('Percentage of words in 2017 but not in 2018: {:d} %'.format(int(x)))"
   ]
  },
  {
   "cell_type": "code",
   "execution_count": 159,
   "metadata": {},
   "outputs": [
    {
     "name": "stdout",
     "output_type": "stream",
     "text": [
      "Percentage of words in 2018 but not in 2017: 43 %\n"
     ]
    }
   ],
   "source": [
    "x =  len(set(network[2018].nodes) - set(network[2017].nodes)) / len(set(network[2018])) * 100\n",
    "print('Percentage of words in 2018 but not in 2017: {:d} %'.format(int(x)))"
   ]
  },
  {
   "cell_type": "markdown",
   "metadata": {},
   "source": [
    "# Assortativity"
   ]
  },
  {
   "cell_type": "code",
   "execution_count": null,
   "metadata": {},
   "outputs": [],
   "source": [
    "# Set pos-tag and text as attribute of each node\n",
    "\n",
    "# relation index - pos\n",
    "i2p = pd.DataFrame(i2w.values()).iloc[:,1]\n",
    "\n",
    "# add the pos attribute \n",
    "for y in years:\n",
    "    indices = list(network[y].nodes)\n",
    "    tags = [i2p[i] for i in indices]\n",
    "    attr_pos = { node: tag for node, tag in tuple(zip(indices, tags)) }\n",
    "    nx.set_node_attributes(network[y], attr_pos, 'pos')"
   ]
  },
  {
   "cell_type": "markdown",
   "metadata": {},
   "source": [
    "### Degree assortativity"
   ]
  },
  {
   "cell_type": "code",
   "execution_count": null,
   "metadata": {},
   "outputs": [],
   "source": [
    "print('Assortativity coefficient 2017:',nx.degree_assortativity_coefficient( network[2017], weight = 'counts' ))\n",
    "print('Assortativity coefficient 2018:',nx.degree_assortativity_coefficient( network[2018], weight = 'counts' ))"
   ]
  },
  {
   "cell_type": "markdown",
   "metadata": {},
   "source": [
    "### Node assortativity by attribute"
   ]
  },
  {
   "cell_type": "code",
   "execution_count": null,
   "metadata": {},
   "outputs": [],
   "source": [
    "verbs = { y : [x for x,y in network[y].nodes(data='pos') if y == 'V']  for y in years} \n",
    "\n",
    "print('Assortativity coefficient 2017:',nx.degree_assortativity_coefficient( network[2017].subgraph(verbs[2017]), weight = 'counts' ))\n",
    "print('Assortativity coefficient 2018:',nx.degree_assortativity_coefficient( network[2018].subgraph(verbs[2018]), weight = 'counts' ))"
   ]
  },
  {
   "cell_type": "code",
   "execution_count": null,
   "metadata": {},
   "outputs": [],
   "source": []
  }
 ],
 "metadata": {
  "kernelspec": {
   "display_name": "Python 3",
   "language": "python",
   "name": "python3"
  },
  "language_info": {
   "codemirror_mode": {
    "name": "ipython",
    "version": 3
   },
   "file_extension": ".py",
   "mimetype": "text/x-python",
   "name": "python",
   "nbconvert_exporter": "python",
   "pygments_lexer": "ipython3",
   "version": "3.7.3"
  }
 },
 "nbformat": 4,
 "nbformat_minor": 2
}
